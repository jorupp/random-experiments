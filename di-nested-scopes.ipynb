{
 "cells": [
  {
   "cell_type": "markdown",
   "metadata": {},
   "source": [
    "Quick experiement to determine whether a scope-registered service is resolved uniquely in a scope even if it's already been resolved in it's parent scope (it does).\n",
    "\n",
    "Ie. whether we can create a child scope to resolve a fresh copy of services/etc. that will themselves have a reference to a fresh `DbContext`."
   ]
  },
  {
   "cell_type": "code",
   "execution_count": null,
   "metadata": {
    "dotnet_interactive": {
     "language": "csharp"
    }
   },
   "outputs": [
    {
     "data": {
      "text/html": [
       "<div><div></div><div></div><div><strong>Installed Packages</strong><ul><li><span>Microsoft.Extensions.Hosting, 6.0.1</span></li></ul></div></div>"
      ]
     },
     "metadata": {},
     "output_type": "display_data"
    }
   ],
   "source": [
    "#r \"nuget:Microsoft.Extensions.Hosting,6.0.1\"\n",
    "\n",
    "using Microsoft.Extensions.Hosting;\n",
    "using Microsoft.Extensions.DependencyInjection;"
   ]
  },
  {
   "cell_type": "code",
   "execution_count": null,
   "metadata": {
    "dotnet_interactive": {
     "language": "csharp"
    }
   },
   "outputs": [],
   "source": [
    "public class SimpleService {}"
   ]
  },
  {
   "cell_type": "code",
   "execution_count": null,
   "metadata": {
    "dotnet_interactive": {
     "language": "csharp"
    }
   },
   "outputs": [],
   "source": [
    "var builder = Host.CreateDefaultBuilder(new string[0]);\n",
    "\n",
    "builder.ConfigureServices(s => s.AddScoped<SimpleService>());\n",
    "\n",
    "var app = builder.Build();"
   ]
  },
  {
   "cell_type": "code",
   "execution_count": null,
   "metadata": {
    "dotnet_interactive": {
     "language": "csharp"
    }
   },
   "outputs": [
    {
     "data": {
      "text/html": [
       "<div class=\"dni-plaintext\">False</div>"
      ]
     },
     "metadata": {},
     "output_type": "display_data"
    }
   ],
   "source": [
    "SimpleService service1;\n",
    "SimpleService service2;\n",
    "using(var scope1 = app.Services.CreateScope()) \n",
    "{\n",
    "    service1 = scope1.ServiceProvider.GetRequiredService<SimpleService>();\n",
    "}\n",
    "using(var scope2 = app.Services.CreateScope()) \n",
    "{\n",
    "    service2 = scope2.ServiceProvider.GetRequiredService<SimpleService>();\n",
    "}\n",
    "\n",
    "display(service1 == service2);"
   ]
  },
  {
   "cell_type": "code",
   "execution_count": null,
   "metadata": {
    "dotnet_interactive": {
     "language": "csharp"
    }
   },
   "outputs": [
    {
     "data": {
      "text/html": [
       "<div class=\"dni-plaintext\">True</div>"
      ]
     },
     "metadata": {},
     "output_type": "display_data"
    }
   ],
   "source": [
    "SimpleService service1;\n",
    "SimpleService service2;\n",
    "using(var scope1 = app.Services.CreateScope()) \n",
    "{\n",
    "    service1 = scope1.ServiceProvider.GetRequiredService<SimpleService>();\n",
    "    service2 = scope1.ServiceProvider.GetRequiredService<SimpleService>();\n",
    "}\n",
    "\n",
    "display(service1 == service2);"
   ]
  },
  {
   "cell_type": "code",
   "execution_count": null,
   "metadata": {
    "dotnet_interactive": {
     "language": "csharp"
    }
   },
   "outputs": [
    {
     "data": {
      "text/html": [
       "<div class=\"dni-plaintext\">False</div>"
      ]
     },
     "metadata": {},
     "output_type": "display_data"
    },
    {
     "data": {
      "text/html": [
       "<div class=\"dni-plaintext\">True</div>"
      ]
     },
     "metadata": {},
     "output_type": "display_data"
    }
   ],
   "source": [
    "SimpleService service1;\n",
    "SimpleService service2;\n",
    "SimpleService service3;\n",
    "using(var scope1 = app.Services.CreateScope()) \n",
    "{\n",
    "    service1 = scope1.ServiceProvider.GetRequiredService<SimpleService>();\n",
    "    using(var scope2 = app.Services.CreateScope()) \n",
    "    {\n",
    "        service2 = scope2.ServiceProvider.GetRequiredService<SimpleService>();\n",
    "    }\n",
    "    service3 = scope1.ServiceProvider.GetRequiredService<SimpleService>();\n",
    "}\n",
    "\n",
    "display(service1 == service2);\n",
    "display(service1 == service3);\n"
   ]
  }
 ],
 "metadata": {
  "kernelspec": {
   "display_name": ".NET (C#)",
   "language": "C#",
   "name": ".net-csharp"
  },
  "language_info": {
   "name": "C#"
  }
 },
 "nbformat": 4,
 "nbformat_minor": 2
}
